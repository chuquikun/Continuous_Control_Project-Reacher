{
 "cells": [
  {
   "cell_type": "markdown",
   "metadata": {},
   "source": [
    "# Continuous Control\n",
    "\n",
    "---\n",
    "\n",
    "In this notebook, you will learn how to train an agent to solve the Unity ML-Agents environment for the second project of the [Deep Reinforcement Learning Nanodegree](https://www.udacity.com/course/deep-reinforcement-learning-nanodegree--nd893) program.\n",
    "\n",
    "### 1. Start the Environment\n",
    "\n",
    "We begin by importing the necessary packages.  If the code cell below returns an error, please revisit the project instructions to double-check that you have installed [Unity ML-Agents](https://github.com/Unity-Technologies/ml-agents/blob/master/docs/Installation.md) and [NumPy](http://www.numpy.org/)."
   ]
  },
  {
   "cell_type": "markdown",
   "metadata": {},
   "source": [
    "The environments corresponding to both versions of the environment are already saved in the Workspace and can be accessed at the file paths provided below.  \n",
    "\n",
    "Please select one of the two options below for loading the environment."
   ]
  },
  {
   "cell_type": "code",
   "execution_count": 1,
   "metadata": {},
   "outputs": [],
   "source": [
    "from unityagents import UnityEnvironment\n",
    "import numpy as np\n",
    "import torch\n",
    "import progressbar as pb\n",
    "from ddpg_agent import Agent\n",
    "from collections import deque\n",
    "import matplotlib.pyplot as plt\n",
    "%matplotlib inline"
   ]
  },
  {
   "cell_type": "markdown",
   "metadata": {},
   "source": [
    "Next, we will start the environment!  **_Before running the code cell below_**, change the `file_name` parameter to match the location of the Unity environment that you downloaded.\n",
    "\n",
    "- **Mac**: `\"path/to/Reacher.app\"`\n",
    "- **Windows** (x86): `\"path/to/Reacher_Windows_x86/Reacher.exe\"`\n",
    "- **Windows** (x86_64): `\"path/to/Reacher_Windows_x86_64/Reacher.exe\"`\n",
    "- **Linux** (x86): `\"path/to/Reacher_Linux/Reacher.x86\"`\n",
    "- **Linux** (x86_64): `\"path/to/Reacher_Linux/Reacher.x86_64\"`\n",
    "- **Linux** (x86, headless): `\"path/to/Reacher_Linux_NoVis/Reacher.x86\"`\n",
    "- **Linux** (x86_64, headless): `\"path/to/Reacher_Linux_NoVis/Reacher.x86_64\"`\n",
    "\n",
    "For instance, if you are using a Mac, then you downloaded `Reacher.app`.  If this file is in the same folder as the notebook, then the line below should appear as follows:\n",
    "```\n",
    "env = UnityEnvironment(file_name=\"Reacher.app\")\n",
    "```"
   ]
  },
  {
   "cell_type": "code",
   "execution_count": 2,
   "metadata": {},
   "outputs": [
    {
     "name": "stderr",
     "output_type": "stream",
     "text": [
      "INFO:unityagents:\n",
      "'Academy' started successfully!\n",
      "Unity Academy name: Academy\n",
      "        Number of Brains: 1\n",
      "        Number of External Brains : 1\n",
      "        Lesson number : 0\n",
      "        Reset Parameters :\n",
      "\t\tgoal_size -> 5.0\n",
      "\t\tgoal_speed -> 1.0\n",
      "Unity brain name: ReacherBrain\n",
      "        Number of Visual Observations (per agent): 0\n",
      "        Vector Observation space type: continuous\n",
      "        Vector Observation space size (per agent): 33\n",
      "        Number of stacked Vector Observation: 1\n",
      "        Vector Action space type: continuous\n",
      "        Vector Action space size (per agent): 4\n",
      "        Vector Action descriptions: , , , \n"
     ]
    }
   ],
   "source": [
    "env = UnityEnvironment(file_name='./Reacher_Linux_NoVis/Reacher.x86_64')"
   ]
  },
  {
   "cell_type": "markdown",
   "metadata": {},
   "source": [
    "Environments contain **_brains_** which are responsible for deciding the actions of their associated agents. Here we check for the first brain available, and set it as the default brain we will be controlling from Python."
   ]
  },
  {
   "cell_type": "code",
   "execution_count": 3,
   "metadata": {},
   "outputs": [],
   "source": [
    "# get the default brain\n",
    "brain_name = env.brain_names[0]\n",
    "brain = env.brains[brain_name]"
   ]
  },
  {
   "cell_type": "markdown",
   "metadata": {},
   "source": [
    "### 2. Examine the State and Action Spaces\n",
    "\n",
    "In this environment, a double-jointed arm can move to target locations. \n",
    "A **reward** of **+0.1** is provided for each step that the agent's hand is in the goal location. Thus, the goal of your agent is to maintain its position at the target location for as many time steps as possible.\n",
    "\n",
    "The **observation space** consists of **33 variables** corresponding to **position, rotation, velocity, and angular velocities of the arm**. \n",
    "\n",
    "Each **action** is a vector with **four numbers**, corresponding to torque applicable to two joints. Every **entry** in the action vector should be a number between **-1 and 1**.\n",
    "\n",
    "\n",
    "Run the code cell below to print some information about the environment."
   ]
  },
  {
   "cell_type": "code",
   "execution_count": 4,
   "metadata": {},
   "outputs": [
    {
     "name": "stdout",
     "output_type": "stream",
     "text": [
      "Number of agents: 20\n",
      "Size of each action: 4\n",
      "There are 20 agents. Each observes a state with length: 33\n",
      "The state for the first agent looks like: [ 0.00000000e+00 -4.00000000e+00  0.00000000e+00  1.00000000e+00\n",
      " -0.00000000e+00 -0.00000000e+00 -4.37113883e-08  0.00000000e+00\n",
      "  0.00000000e+00  0.00000000e+00  0.00000000e+00  0.00000000e+00\n",
      "  0.00000000e+00  0.00000000e+00 -1.00000000e+01  0.00000000e+00\n",
      "  1.00000000e+00 -0.00000000e+00 -0.00000000e+00 -4.37113883e-08\n",
      "  0.00000000e+00  0.00000000e+00  0.00000000e+00  0.00000000e+00\n",
      "  0.00000000e+00  0.00000000e+00  5.75471878e+00 -1.00000000e+00\n",
      "  5.55726624e+00  0.00000000e+00  1.00000000e+00  0.00000000e+00\n",
      " -1.68164849e-01]\n"
     ]
    }
   ],
   "source": [
    "# reset the environment\n",
    "env_info = env.reset(train_mode=True)[brain_name]\n",
    "\n",
    "# number of agents\n",
    "num_agents = len(env_info.agents)\n",
    "print('Number of agents:', num_agents)\n",
    "\n",
    "# size of each action\n",
    "action_size = brain.vector_action_space_size\n",
    "print('Size of each action:', action_size)\n",
    "\n",
    "# examine the state space \n",
    "states = env_info.vector_observations\n",
    "state_size = states.shape[1]\n",
    "print('There are {} agents. Each observes a state with length: {}'.format(states.shape[0], state_size))\n",
    "print('The state for the first agent looks like:', states[0])"
   ]
  },
  {
   "cell_type": "markdown",
   "metadata": {},
   "source": [
    "### 3. It's Your Turn!\n",
    "\n",
    "Your agents must get an average score of +30 (over 100 consecutive episodes, and over all agents). Specifically,\n",
    "\n",
    "* After each episode, we add up the rewards that each agent received (without discounting), to get a score for each agent. This yields 20 (potentially different) scores. We then take the average of these 20 scores.\n",
    "* This yields an **average score** for each episode (where the average is over all 20 agents).\n",
    "\n",
    "The environment is considered solved, when the average (over 100 episodes) of those average scores is at least +30.\n",
    "\n",
    "Now it's your turn to train your own agent to solve the environment!  When training the environment, set `train_mode=True`, so that the line for resetting the environment looks like the following:\n",
    "\n",
    "```python\n",
    "env_info = env.reset(train_mode=True)[brain_name]\n",
    "```"
   ]
  },
  {
   "cell_type": "code",
   "execution_count": 5,
   "metadata": {},
   "outputs": [],
   "source": [
    "# Creat an instance of the agent to be trained\n",
    "ddpg = Agent(state_size=state_size,\n",
    "             action_size=action_size,\n",
    "             random_seed=1234,\n",
    "             hidden_layers=[64,128],\n",
    "             n_agents=num_agents\n",
    "            )\n",
    "\n",
    "# Training process\n",
    "def train_agent(agent, n_episodes=10000, max_it=1000):\n",
    "    \"\"\" Train an agent using Deep Determinstic Policy Gradient learning\n",
    "    \n",
    "    Params\n",
    "    ======\n",
    "        agent (Agent): an agent that interacts with and learns from the environment.\n",
    "        n_episodes (int): maximum number of training episodes\n",
    "        max_it (int): maximum number of iteration per episode\n",
    "    \"\"\"\n",
    "    scores = []                        # list containing scores from each episode\n",
    "    scores_window = deque(maxlen=100)  # last 100 scores\n",
    "    widget = [pb.Percentage(), ' ', pb.ETA(), ' ', pb.Bar(marker=pb.RotatingMarker()), ' ' ]\n",
    " \n",
    "    timer = pb.ProgressBar(widgets=widget, maxval=n_episodes).start()\n",
    "    \n",
    "    for i_episode in range(1, n_episodes+1):\n",
    "        env_info = env.reset(train_mode=True)[brain_name]     # reset the environment\n",
    "        score = np.zeros(agent.n_agents)\n",
    "        agent.reset()\n",
    "        states = env_info.vector_observations                  # get the current states\n",
    "        for t in range(max_it):\n",
    "            actions = agent.act(states)                        # compute actions for each agent  \n",
    "            env_info = env.step(actions)[brain_name]           # send the action to the environment\n",
    "            next_states = env_info.vector_observations         # get next states\n",
    "            rewards = env_info.rewards                         # get reward (for each agent)\n",
    "            dones = env_info.local_done                        # see if episode has finished\n",
    "            agent.step(states, actions, rewards, next_states, dones)\n",
    "            states = next_states\n",
    "            score += rewards\n",
    "            if any(dones):\n",
    "                break \n",
    "        scores_window.append(np.mean(score))       # save the average over all the agents in the last episode\n",
    "        scores.append(np.mean(score))              # save the average over all the agents in the last episode  \n",
    "        \n",
    "        #if i_episode % 10 == 0:    \n",
    "        timer.update(i_episode)\n",
    "        print('\\rEpisode {}\\tAverage Score: {:.2f}'.format(i_episode, np.mean(scores_window)), end=\"\")\n",
    "        if i_episode % 100 == 0:\n",
    "            print('\\rEpisode {}\\tAverage Score: {:.2f}'.format(i_episode, np.mean(scores_window)))\n",
    "        if np.mean(scores_window)>=30:\n",
    "            print('\\nEnvironment solved in {:d} episodes!\\tAverage Score: {:.2f}'.format(i_episode-100, np.mean(scores_window)))\n",
    "            #torch.save(agent.qnetwork_local.state_dict(), 'checkpoint.pth')\n",
    "            break\n",
    "    timer.finish()\n",
    "    return scores\n",
    "\n",
    "def show_agent_performance(scores):\n",
    "    \"\"\" Show the score of obtained by an agent during his training phase\"\"\"\n",
    "    # plot the scores\n",
    "    fig = plt.figure()\n",
    "    ax = fig.add_subplot(111)\n",
    "    plt.plot(np.arange(len(scores)), scores)\n",
    "    plt.ylabel('Score')\n",
    "    plt.xlabel('Episode #')\n",
    "    plt.show()"
   ]
  },
  {
   "cell_type": "markdown",
   "metadata": {},
   "source": [
    "### 4. Train a Deep Deterministic Policy Gradient Agent"
   ]
  },
  {
   "cell_type": "code",
   "execution_count": 6,
   "metadata": {},
   "outputs": [
    {
     "name": "stderr",
     "output_type": "stream",
     "text": [
      "  0% ETA:  1 day, 6:11:38 |                                                  | \r"
     ]
    },
    {
     "name": "stdout",
     "output_type": "stream",
     "text": [
      "\r",
      "Episode 1\tAverage Score: 0.27"
     ]
    },
    {
     "name": "stderr",
     "output_type": "stream",
     "text": [
      "  0% ETA:  1 day, 7:38:58 |                                                  | \r"
     ]
    },
    {
     "name": "stdout",
     "output_type": "stream",
     "text": [
      "\r",
      "Episode 2\tAverage Score: 0.61"
     ]
    },
    {
     "name": "stderr",
     "output_type": "stream",
     "text": [
      "  0% ETA:  1 day, 7:15:20 |                                                  | \r"
     ]
    },
    {
     "name": "stdout",
     "output_type": "stream",
     "text": [
      "\r",
      "Episode 3\tAverage Score: 0.67"
     ]
    },
    {
     "name": "stderr",
     "output_type": "stream",
     "text": [
      "  0% ETA:  1 day, 6:15:18 |                                                  | \r"
     ]
    },
    {
     "name": "stdout",
     "output_type": "stream",
     "text": [
      "\r",
      "Episode 4\tAverage Score: 0.72"
     ]
    },
    {
     "name": "stderr",
     "output_type": "stream",
     "text": [
      "  0% ETA:  1 day, 6:17:01 |                                                  | \r"
     ]
    },
    {
     "name": "stdout",
     "output_type": "stream",
     "text": [
      "\r",
      "Episode 5\tAverage Score: 0.72"
     ]
    },
    {
     "name": "stderr",
     "output_type": "stream",
     "text": [
      "  0% ETA:  1 day, 6:29:37 |                                                  | \r"
     ]
    },
    {
     "name": "stdout",
     "output_type": "stream",
     "text": [
      "\r",
      "Episode 6\tAverage Score: 0.81"
     ]
    },
    {
     "name": "stderr",
     "output_type": "stream",
     "text": [
      "  0% ETA:  1 day, 6:24:27 |                                                  | \r"
     ]
    },
    {
     "name": "stdout",
     "output_type": "stream",
     "text": [
      "\r",
      "Episode 7\tAverage Score: 0.93"
     ]
    },
    {
     "name": "stderr",
     "output_type": "stream",
     "text": [
      "  0% ETA:  1 day, 6:20:56 |                                                  | \r"
     ]
    },
    {
     "name": "stdout",
     "output_type": "stream",
     "text": [
      "\r",
      "Episode 8\tAverage Score: 1.04"
     ]
    },
    {
     "name": "stderr",
     "output_type": "stream",
     "text": [
      "  0% ETA:  1 day, 6:27:13 |                                                  | \r"
     ]
    },
    {
     "name": "stdout",
     "output_type": "stream",
     "text": [
      "\r",
      "Episode 9\tAverage Score: 1.14"
     ]
    },
    {
     "name": "stderr",
     "output_type": "stream",
     "text": [
      "  0% ETA:  1 day, 6:31:23 |                                                  | \r"
     ]
    },
    {
     "name": "stdout",
     "output_type": "stream",
     "text": [
      "\r",
      "Episode 10\tAverage Score: 1.14"
     ]
    },
    {
     "name": "stderr",
     "output_type": "stream",
     "text": [
      "  0% ETA:  1 day, 6:32:18 |                                                  | \r"
     ]
    },
    {
     "name": "stdout",
     "output_type": "stream",
     "text": [
      "\r",
      "Episode 11\tAverage Score: 1.07"
     ]
    },
    {
     "name": "stderr",
     "output_type": "stream",
     "text": [
      "  0% ETA:  1 day, 6:38:48 |                                                  | \r"
     ]
    },
    {
     "name": "stdout",
     "output_type": "stream",
     "text": [
      "\r",
      "Episode 12\tAverage Score: 1.20"
     ]
    },
    {
     "name": "stderr",
     "output_type": "stream",
     "text": [
      "  0% ETA:  1 day, 6:54:24 |                                                  | \r"
     ]
    },
    {
     "name": "stdout",
     "output_type": "stream",
     "text": [
      "\r",
      "Episode 13\tAverage Score: 1.34"
     ]
    },
    {
     "name": "stderr",
     "output_type": "stream",
     "text": [
      "  0% ETA:  1 day, 7:00:06 |                                                  | \r"
     ]
    },
    {
     "name": "stdout",
     "output_type": "stream",
     "text": [
      "\r",
      "Episode 14\tAverage Score: 1.40"
     ]
    },
    {
     "name": "stderr",
     "output_type": "stream",
     "text": [
      "  0% ETA:  1 day, 6:49:48 |                                                  | \r"
     ]
    },
    {
     "name": "stdout",
     "output_type": "stream",
     "text": [
      "\r",
      "Episode 15\tAverage Score: 1.50"
     ]
    },
    {
     "name": "stderr",
     "output_type": "stream",
     "text": [
      "  0% ETA:  1 day, 6:50:05 |                                                  | \r"
     ]
    },
    {
     "name": "stdout",
     "output_type": "stream",
     "text": [
      "\r",
      "Episode 16\tAverage Score: 1.57"
     ]
    },
    {
     "name": "stderr",
     "output_type": "stream",
     "text": [
      "  0% ETA:  1 day, 7:03:08 |                                                  | \r"
     ]
    },
    {
     "name": "stdout",
     "output_type": "stream",
     "text": [
      "\r",
      "Episode 17\tAverage Score: 1.67"
     ]
    },
    {
     "name": "stderr",
     "output_type": "stream",
     "text": [
      "  0% ETA:  1 day, 7:16:33 |                                                  | \r"
     ]
    },
    {
     "name": "stdout",
     "output_type": "stream",
     "text": [
      "\r",
      "Episode 18\tAverage Score: 1.84"
     ]
    },
    {
     "name": "stderr",
     "output_type": "stream",
     "text": [
      "  0% ETA:  1 day, 7:23:01 |                                                  | \r"
     ]
    },
    {
     "name": "stdout",
     "output_type": "stream",
     "text": [
      "\r",
      "Episode 19\tAverage Score: 2.09"
     ]
    },
    {
     "name": "stderr",
     "output_type": "stream",
     "text": [
      "  0% ETA:  1 day, 7:09:30 |                                                  | \r"
     ]
    },
    {
     "name": "stdout",
     "output_type": "stream",
     "text": [
      "\r",
      "Episode 20\tAverage Score: 2.28"
     ]
    },
    {
     "name": "stderr",
     "output_type": "stream",
     "text": [
      "  0% ETA:  1 day, 7:04:19 |                                                  | \r"
     ]
    },
    {
     "name": "stdout",
     "output_type": "stream",
     "text": [
      "\r",
      "Episode 21\tAverage Score: 2.51"
     ]
    },
    {
     "name": "stderr",
     "output_type": "stream",
     "text": [
      "  0% ETA:  1 day, 7:00:21 |                                                  | \r"
     ]
    },
    {
     "name": "stdout",
     "output_type": "stream",
     "text": [
      "\r",
      "Episode 22\tAverage Score: 2.73"
     ]
    },
    {
     "name": "stderr",
     "output_type": "stream",
     "text": [
      "  0% ETA:  1 day, 6:56:44 |                                                  | \r"
     ]
    },
    {
     "name": "stdout",
     "output_type": "stream",
     "text": [
      "\r",
      "Episode 23\tAverage Score: 2.99"
     ]
    },
    {
     "name": "stderr",
     "output_type": "stream",
     "text": [
      "  0% ETA:  1 day, 6:55:50 |                                                  | \r"
     ]
    },
    {
     "name": "stdout",
     "output_type": "stream",
     "text": [
      "\r",
      "Episode 24\tAverage Score: 3.26"
     ]
    },
    {
     "name": "stderr",
     "output_type": "stream",
     "text": [
      "  0% ETA:  1 day, 6:53:52 |                                                  | \r"
     ]
    },
    {
     "name": "stdout",
     "output_type": "stream",
     "text": [
      "\r",
      "Episode 25\tAverage Score: 3.51"
     ]
    },
    {
     "name": "stderr",
     "output_type": "stream",
     "text": [
      "  0% ETA:  1 day, 6:59:18 |                                                  | \r"
     ]
    },
    {
     "name": "stdout",
     "output_type": "stream",
     "text": [
      "\r",
      "Episode 26\tAverage Score: 3.81"
     ]
    },
    {
     "name": "stderr",
     "output_type": "stream",
     "text": [
      "  0% ETA:  1 day, 7:00:19 |                                                  | \r"
     ]
    },
    {
     "name": "stdout",
     "output_type": "stream",
     "text": [
      "\r",
      "Episode 27\tAverage Score: 4.13"
     ]
    },
    {
     "name": "stderr",
     "output_type": "stream",
     "text": [
      "  0% ETA:  1 day, 7:00:33 |                                                  | \r"
     ]
    },
    {
     "name": "stdout",
     "output_type": "stream",
     "text": [
      "\r",
      "Episode 28\tAverage Score: 4.43"
     ]
    },
    {
     "name": "stderr",
     "output_type": "stream",
     "text": [
      "  0% ETA:  1 day, 6:59:06 |                                                  | \r"
     ]
    },
    {
     "name": "stdout",
     "output_type": "stream",
     "text": [
      "\r",
      "Episode 29\tAverage Score: 4.88"
     ]
    },
    {
     "name": "stderr",
     "output_type": "stream",
     "text": [
      "  0% ETA:  1 day, 7:06:27 |                                                  | \r"
     ]
    },
    {
     "name": "stdout",
     "output_type": "stream",
     "text": [
      "\r",
      "Episode 30\tAverage Score: 5.33"
     ]
    },
    {
     "name": "stderr",
     "output_type": "stream",
     "text": [
      "  0% ETA:  1 day, 7:15:00 |                                                  | \r"
     ]
    },
    {
     "name": "stdout",
     "output_type": "stream",
     "text": [
      "\r",
      "Episode 31\tAverage Score: 5.80"
     ]
    },
    {
     "name": "stderr",
     "output_type": "stream",
     "text": [
      "  0% ETA:  1 day, 7:14:16 |                                                  | \r"
     ]
    },
    {
     "name": "stdout",
     "output_type": "stream",
     "text": [
      "\r",
      "Episode 32\tAverage Score: 6.31"
     ]
    },
    {
     "name": "stderr",
     "output_type": "stream",
     "text": [
      "  0% ETA:  1 day, 7:11:21 |                                                  | \r"
     ]
    },
    {
     "name": "stdout",
     "output_type": "stream",
     "text": [
      "\r",
      "Episode 33\tAverage Score: 6.98"
     ]
    },
    {
     "name": "stderr",
     "output_type": "stream",
     "text": [
      "  0% ETA:  1 day, 7:06:58 |                                                  | \r"
     ]
    },
    {
     "name": "stdout",
     "output_type": "stream",
     "text": [
      "\r",
      "Episode 34\tAverage Score: 7.65"
     ]
    },
    {
     "name": "stderr",
     "output_type": "stream",
     "text": [
      "  0% ETA:  1 day, 7:05:31 |                                                  | \r"
     ]
    },
    {
     "name": "stdout",
     "output_type": "stream",
     "text": [
      "\r",
      "Episode 35\tAverage Score: 8.31"
     ]
    },
    {
     "name": "stderr",
     "output_type": "stream",
     "text": [
      "  0% ETA:  1 day, 7:11:20 |                                                  | \r"
     ]
    },
    {
     "name": "stdout",
     "output_type": "stream",
     "text": [
      "\r",
      "Episode 36\tAverage Score: 8.95"
     ]
    },
    {
     "name": "stderr",
     "output_type": "stream",
     "text": [
      "  0% ETA:  1 day, 7:09:59 |                                                  | \r"
     ]
    },
    {
     "name": "stdout",
     "output_type": "stream",
     "text": [
      "\r",
      "Episode 37\tAverage Score: 9.56"
     ]
    },
    {
     "name": "stderr",
     "output_type": "stream",
     "text": [
      "  0% ETA:  1 day, 7:08:44 |                                                  | \r"
     ]
    },
    {
     "name": "stdout",
     "output_type": "stream",
     "text": [
      "\r",
      "Episode 38\tAverage Score: 10.18"
     ]
    },
    {
     "name": "stderr",
     "output_type": "stream",
     "text": [
      "  0% ETA:  1 day, 7:06:32 |                                                  | \r"
     ]
    },
    {
     "name": "stdout",
     "output_type": "stream",
     "text": [
      "\r",
      "Episode 39\tAverage Score: 10.79"
     ]
    },
    {
     "name": "stderr",
     "output_type": "stream",
     "text": [
      "  0% ETA:  1 day, 7:09:01 |                                                  | \r"
     ]
    },
    {
     "name": "stdout",
     "output_type": "stream",
     "text": [
      "\r",
      "Episode 40\tAverage Score: 11.39"
     ]
    },
    {
     "name": "stderr",
     "output_type": "stream",
     "text": [
      "  0% ETA:  1 day, 7:10:05 |                                                  | \r"
     ]
    },
    {
     "name": "stdout",
     "output_type": "stream",
     "text": [
      "\r",
      "Episode 41\tAverage Score: 11.98"
     ]
    },
    {
     "name": "stderr",
     "output_type": "stream",
     "text": [
      "  0% ETA:  1 day, 7:11:40 |                                                  | \r"
     ]
    },
    {
     "name": "stdout",
     "output_type": "stream",
     "text": [
      "\r",
      "Episode 42\tAverage Score: 12.56"
     ]
    },
    {
     "name": "stderr",
     "output_type": "stream",
     "text": [
      "  0% ETA:  1 day, 7:15:25 |                                                  | \r"
     ]
    },
    {
     "name": "stdout",
     "output_type": "stream",
     "text": [
      "\r",
      "Episode 43\tAverage Score: 13.09"
     ]
    },
    {
     "name": "stderr",
     "output_type": "stream",
     "text": [
      "  0% ETA:  1 day, 7:15:52 |                                                  | \r"
     ]
    },
    {
     "name": "stdout",
     "output_type": "stream",
     "text": [
      "\r",
      "Episode 44\tAverage Score: 13.61"
     ]
    },
    {
     "name": "stderr",
     "output_type": "stream",
     "text": [
      "  0% ETA:  1 day, 7:15:46 |                                                  | \r"
     ]
    },
    {
     "name": "stdout",
     "output_type": "stream",
     "text": [
      "\r",
      "Episode 45\tAverage Score: 14.12"
     ]
    },
    {
     "name": "stderr",
     "output_type": "stream",
     "text": [
      "  0% ETA:  1 day, 7:16:21 |                                                  | \r"
     ]
    },
    {
     "name": "stdout",
     "output_type": "stream",
     "text": [
      "\r",
      "Episode 46\tAverage Score: 14.61"
     ]
    },
    {
     "name": "stderr",
     "output_type": "stream",
     "text": [
      "  0% ETA:  1 day, 7:16:35 |                                                  | \r"
     ]
    },
    {
     "name": "stdout",
     "output_type": "stream",
     "text": [
      "\r",
      "Episode 47\tAverage Score: 15.10"
     ]
    },
    {
     "name": "stderr",
     "output_type": "stream",
     "text": [
      "  0% ETA:  1 day, 7:16:22 |                                                  | \r"
     ]
    },
    {
     "name": "stdout",
     "output_type": "stream",
     "text": [
      "\r",
      "Episode 48\tAverage Score: 15.56"
     ]
    },
    {
     "name": "stderr",
     "output_type": "stream",
     "text": [
      "  0% ETA:  1 day, 7:14:58 |                                                  | \r"
     ]
    },
    {
     "name": "stdout",
     "output_type": "stream",
     "text": [
      "\r",
      "Episode 49\tAverage Score: 15.99"
     ]
    },
    {
     "name": "stderr",
     "output_type": "stream",
     "text": [
      "  0% ETA:  1 day, 7:15:54 |                                                  | \r"
     ]
    },
    {
     "name": "stdout",
     "output_type": "stream",
     "text": [
      "\r",
      "Episode 50\tAverage Score: 16.41"
     ]
    },
    {
     "name": "stderr",
     "output_type": "stream",
     "text": [
      "  0% ETA:  1 day, 7:17:15 |                                                  | \r"
     ]
    },
    {
     "name": "stdout",
     "output_type": "stream",
     "text": [
      "\r",
      "Episode 51\tAverage Score: 16.81"
     ]
    },
    {
     "name": "stderr",
     "output_type": "stream",
     "text": [
      "  0% ETA:  1 day, 7:20:36 |                                                  | \r"
     ]
    },
    {
     "name": "stdout",
     "output_type": "stream",
     "text": [
      "\r",
      "Episode 52\tAverage Score: 17.20"
     ]
    },
    {
     "name": "stderr",
     "output_type": "stream",
     "text": [
      "  0% ETA:  1 day, 7:22:56 |                                                  | \r"
     ]
    },
    {
     "name": "stdout",
     "output_type": "stream",
     "text": [
      "\r",
      "Episode 53\tAverage Score: 17.57"
     ]
    },
    {
     "name": "stderr",
     "output_type": "stream",
     "text": [
      "  0% ETA:  1 day, 7:25:09 |                                                  | \r"
     ]
    },
    {
     "name": "stdout",
     "output_type": "stream",
     "text": [
      "\r",
      "Episode 54\tAverage Score: 17.93"
     ]
    },
    {
     "name": "stderr",
     "output_type": "stream",
     "text": [
      "  0% ETA:  1 day, 7:26:51 |                                                  | \r"
     ]
    },
    {
     "name": "stdout",
     "output_type": "stream",
     "text": [
      "\r",
      "Episode 55\tAverage Score: 18.26"
     ]
    },
    {
     "name": "stderr",
     "output_type": "stream",
     "text": [
      "  0% ETA:  1 day, 7:27:17 |                                                  | \r"
     ]
    },
    {
     "name": "stdout",
     "output_type": "stream",
     "text": [
      "\r",
      "Episode 56\tAverage Score: 18.57"
     ]
    },
    {
     "name": "stderr",
     "output_type": "stream",
     "text": [
      "  0% ETA:  1 day, 7:27:57 |                                                  | \r"
     ]
    },
    {
     "name": "stdout",
     "output_type": "stream",
     "text": [
      "\r",
      "Episode 57\tAverage Score: 18.87"
     ]
    },
    {
     "name": "stderr",
     "output_type": "stream",
     "text": [
      "  0% ETA:  1 day, 7:29:23 |                                                  | \r"
     ]
    },
    {
     "name": "stdout",
     "output_type": "stream",
     "text": [
      "\r",
      "Episode 58\tAverage Score: 19.17"
     ]
    },
    {
     "name": "stderr",
     "output_type": "stream",
     "text": [
      "  0% ETA:  1 day, 7:26:58 |                                                  | \r"
     ]
    },
    {
     "name": "stdout",
     "output_type": "stream",
     "text": [
      "\r",
      "Episode 59\tAverage Score: 19.45"
     ]
    },
    {
     "name": "stderr",
     "output_type": "stream",
     "text": [
      "  0% ETA:  1 day, 7:25:02 |                                                  | \r"
     ]
    },
    {
     "name": "stdout",
     "output_type": "stream",
     "text": [
      "\r",
      "Episode 60\tAverage Score: 19.74"
     ]
    },
    {
     "name": "stderr",
     "output_type": "stream",
     "text": [
      "  0% ETA:  1 day, 7:23:43 |                                                  | \r"
     ]
    },
    {
     "name": "stdout",
     "output_type": "stream",
     "text": [
      "\r",
      "Episode 61\tAverage Score: 20.00"
     ]
    },
    {
     "name": "stderr",
     "output_type": "stream",
     "text": [
      "  0% ETA:  1 day, 7:19:33 |                                                  | \r"
     ]
    },
    {
     "name": "stdout",
     "output_type": "stream",
     "text": [
      "\r",
      "Episode 62\tAverage Score: 20.26"
     ]
    },
    {
     "name": "stderr",
     "output_type": "stream",
     "text": [
      "  0% ETA:  1 day, 7:18:25 |                                                  | \r"
     ]
    },
    {
     "name": "stdout",
     "output_type": "stream",
     "text": [
      "\r",
      "Episode 63\tAverage Score: 20.51"
     ]
    },
    {
     "name": "stderr",
     "output_type": "stream",
     "text": [
      "  0% ETA:  1 day, 7:17:41 |                                                  | \r"
     ]
    },
    {
     "name": "stdout",
     "output_type": "stream",
     "text": [
      "\r",
      "Episode 64\tAverage Score: 20.75"
     ]
    },
    {
     "name": "stderr",
     "output_type": "stream",
     "text": [
      "  0% ETA:  1 day, 7:16:39 |                                                  | \r"
     ]
    },
    {
     "name": "stdout",
     "output_type": "stream",
     "text": [
      "\r",
      "Episode 65\tAverage Score: 20.99"
     ]
    },
    {
     "name": "stderr",
     "output_type": "stream",
     "text": [
      "  0% ETA:  1 day, 7:14:25 |                                                  | \r"
     ]
    },
    {
     "name": "stdout",
     "output_type": "stream",
     "text": [
      "\r",
      "Episode 66\tAverage Score: 21.23"
     ]
    },
    {
     "name": "stderr",
     "output_type": "stream",
     "text": [
      "  0% ETA:  1 day, 7:10:31 |                                                  | \r"
     ]
    },
    {
     "name": "stdout",
     "output_type": "stream",
     "text": [
      "\r",
      "Episode 67\tAverage Score: 21.46"
     ]
    },
    {
     "name": "stderr",
     "output_type": "stream",
     "text": [
      "  0% ETA:  1 day, 7:09:04 |                                                  | \r"
     ]
    },
    {
     "name": "stdout",
     "output_type": "stream",
     "text": [
      "\r",
      "Episode 68\tAverage Score: 21.67"
     ]
    },
    {
     "name": "stderr",
     "output_type": "stream",
     "text": [
      "  0% ETA:  1 day, 7:09:23 |                                                  | \r"
     ]
    },
    {
     "name": "stdout",
     "output_type": "stream",
     "text": [
      "\r",
      "Episode 69\tAverage Score: 21.89"
     ]
    },
    {
     "name": "stderr",
     "output_type": "stream",
     "text": [
      "  0% ETA:  1 day, 7:09:13 |                                                  | \r"
     ]
    },
    {
     "name": "stdout",
     "output_type": "stream",
     "text": [
      "\r",
      "Episode 70\tAverage Score: 22.10"
     ]
    },
    {
     "name": "stderr",
     "output_type": "stream",
     "text": [
      "  0% ETA:  1 day, 7:09:01 |                                                  | \r"
     ]
    },
    {
     "name": "stdout",
     "output_type": "stream",
     "text": [
      "\r",
      "Episode 71\tAverage Score: 22.30"
     ]
    },
    {
     "name": "stderr",
     "output_type": "stream",
     "text": [
      "  0% ETA:  1 day, 7:08:45 |                                                  | \r"
     ]
    },
    {
     "name": "stdout",
     "output_type": "stream",
     "text": [
      "\r",
      "Episode 72\tAverage Score: 22.50"
     ]
    },
    {
     "name": "stderr",
     "output_type": "stream",
     "text": [
      "  0% ETA:  1 day, 7:07:40 |                                                  | \r"
     ]
    },
    {
     "name": "stdout",
     "output_type": "stream",
     "text": [
      "\r",
      "Episode 73\tAverage Score: 22.69"
     ]
    },
    {
     "name": "stderr",
     "output_type": "stream",
     "text": [
      "  0% ETA:  1 day, 7:09:49 |                                                  | \r"
     ]
    },
    {
     "name": "stdout",
     "output_type": "stream",
     "text": [
      "\r",
      "Episode 74\tAverage Score: 22.88"
     ]
    },
    {
     "name": "stderr",
     "output_type": "stream",
     "text": [
      "  0% ETA:  1 day, 7:08:06 |                                                  | \r"
     ]
    },
    {
     "name": "stdout",
     "output_type": "stream",
     "text": [
      "\r",
      "Episode 75\tAverage Score: 23.07"
     ]
    },
    {
     "name": "stderr",
     "output_type": "stream",
     "text": [
      "  0% ETA:  1 day, 7:04:01 |                                                  | \r"
     ]
    },
    {
     "name": "stdout",
     "output_type": "stream",
     "text": [
      "\r",
      "Episode 76\tAverage Score: 23.24"
     ]
    },
    {
     "name": "stderr",
     "output_type": "stream",
     "text": [
      "  0% ETA:  1 day, 6:59:09 |                                                  | \r"
     ]
    },
    {
     "name": "stdout",
     "output_type": "stream",
     "text": [
      "\r",
      "Episode 77\tAverage Score: 23.41"
     ]
    },
    {
     "name": "stderr",
     "output_type": "stream",
     "text": [
      "  0% ETA:  1 day, 6:54:24 |                                                  | \r"
     ]
    },
    {
     "name": "stdout",
     "output_type": "stream",
     "text": [
      "\r",
      "Episode 78\tAverage Score: 23.57"
     ]
    },
    {
     "name": "stderr",
     "output_type": "stream",
     "text": [
      "  0% ETA:  1 day, 6:49:43 |                                                  | \r"
     ]
    },
    {
     "name": "stdout",
     "output_type": "stream",
     "text": [
      "\r",
      "Episode 79\tAverage Score: 23.73"
     ]
    },
    {
     "name": "stderr",
     "output_type": "stream",
     "text": [
      "  0% ETA:  1 day, 6:45:21 |                                                  | \r"
     ]
    },
    {
     "name": "stdout",
     "output_type": "stream",
     "text": [
      "\r",
      "Episode 80\tAverage Score: 23.87"
     ]
    },
    {
     "name": "stderr",
     "output_type": "stream",
     "text": [
      "  0% ETA:  1 day, 6:40:56 |                                                  | \r"
     ]
    },
    {
     "name": "stdout",
     "output_type": "stream",
     "text": [
      "\r",
      "Episode 81\tAverage Score: 24.01"
     ]
    },
    {
     "name": "stderr",
     "output_type": "stream",
     "text": [
      "  0% ETA:  1 day, 6:37:51 |                                                  | \r"
     ]
    },
    {
     "name": "stdout",
     "output_type": "stream",
     "text": [
      "\r",
      "Episode 82\tAverage Score: 24.15"
     ]
    },
    {
     "name": "stderr",
     "output_type": "stream",
     "text": [
      "  0% ETA:  1 day, 6:35:54 |                                                  | \r"
     ]
    },
    {
     "name": "stdout",
     "output_type": "stream",
     "text": [
      "\r",
      "Episode 83\tAverage Score: 24.27"
     ]
    },
    {
     "name": "stderr",
     "output_type": "stream",
     "text": [
      "  0% ETA:  1 day, 6:34:03 |                                                  | \r"
     ]
    },
    {
     "name": "stdout",
     "output_type": "stream",
     "text": [
      "\r",
      "Episode 84\tAverage Score: 24.39"
     ]
    },
    {
     "name": "stderr",
     "output_type": "stream",
     "text": [
      "  0% ETA:  1 day, 6:32:12 |                                                  | \r"
     ]
    },
    {
     "name": "stdout",
     "output_type": "stream",
     "text": [
      "\r",
      "Episode 85\tAverage Score: 24.49"
     ]
    },
    {
     "name": "stderr",
     "output_type": "stream",
     "text": [
      "  0% ETA:  1 day, 6:30:30 |                                                  | \r"
     ]
    },
    {
     "name": "stdout",
     "output_type": "stream",
     "text": [
      "\r",
      "Episode 86\tAverage Score: 24.60"
     ]
    },
    {
     "name": "stderr",
     "output_type": "stream",
     "text": [
      "  0% ETA:  1 day, 6:28:39 |                                                  | \r"
     ]
    },
    {
     "name": "stdout",
     "output_type": "stream",
     "text": [
      "\r",
      "Episode 87\tAverage Score: 24.74"
     ]
    },
    {
     "name": "stderr",
     "output_type": "stream",
     "text": [
      "  0% ETA:  1 day, 6:27:17 |                                                  | \r"
     ]
    },
    {
     "name": "stdout",
     "output_type": "stream",
     "text": [
      "\r",
      "Episode 88\tAverage Score: 24.86"
     ]
    },
    {
     "name": "stderr",
     "output_type": "stream",
     "text": [
      "  0% ETA:  1 day, 6:25:47 |                                                  | \r"
     ]
    },
    {
     "name": "stdout",
     "output_type": "stream",
     "text": [
      "\r",
      "Episode 89\tAverage Score: 24.99"
     ]
    },
    {
     "name": "stderr",
     "output_type": "stream",
     "text": [
      "  0% ETA:  1 day, 6:24:21 |                                                  | \r"
     ]
    },
    {
     "name": "stdout",
     "output_type": "stream",
     "text": [
      "\r",
      "Episode 90\tAverage Score: 25.09"
     ]
    },
    {
     "name": "stderr",
     "output_type": "stream",
     "text": [
      "  0% ETA:  1 day, 6:21:25 |                                                  | \r"
     ]
    },
    {
     "name": "stdout",
     "output_type": "stream",
     "text": [
      "\r",
      "Episode 91\tAverage Score: 25.21"
     ]
    },
    {
     "name": "stderr",
     "output_type": "stream",
     "text": [
      "  0% ETA:  1 day, 6:17:43 |                                                  | \r"
     ]
    },
    {
     "name": "stdout",
     "output_type": "stream",
     "text": [
      "\r",
      "Episode 92\tAverage Score: 25.33"
     ]
    },
    {
     "name": "stderr",
     "output_type": "stream",
     "text": [
      "  0% ETA:  1 day, 6:14:06 |                                                  | \r"
     ]
    },
    {
     "name": "stdout",
     "output_type": "stream",
     "text": [
      "\r",
      "Episode 93\tAverage Score: 25.43"
     ]
    },
    {
     "name": "stderr",
     "output_type": "stream",
     "text": [
      "  0% ETA:  1 day, 6:11:30 |                                                  | \r"
     ]
    },
    {
     "name": "stdout",
     "output_type": "stream",
     "text": [
      "\r",
      "Episode 94\tAverage Score: 25.55"
     ]
    },
    {
     "name": "stderr",
     "output_type": "stream",
     "text": [
      "  0% ETA:  1 day, 6:08:15 |                                                  | \r"
     ]
    },
    {
     "name": "stdout",
     "output_type": "stream",
     "text": [
      "\r",
      "Episode 95\tAverage Score: 25.67"
     ]
    },
    {
     "name": "stderr",
     "output_type": "stream",
     "text": [
      "  0% ETA:  1 day, 6:06:31 |                                                  | \r"
     ]
    },
    {
     "name": "stdout",
     "output_type": "stream",
     "text": [
      "\r",
      "Episode 96\tAverage Score: 25.77"
     ]
    },
    {
     "name": "stderr",
     "output_type": "stream",
     "text": [
      "  0% ETA:  1 day, 6:03:36 |                                                  | \r"
     ]
    },
    {
     "name": "stdout",
     "output_type": "stream",
     "text": [
      "\r",
      "Episode 97\tAverage Score: 25.87"
     ]
    },
    {
     "name": "stderr",
     "output_type": "stream",
     "text": [
      "  0% ETA:  1 day, 6:00:16 |                                                  | \r"
     ]
    },
    {
     "name": "stdout",
     "output_type": "stream",
     "text": [
      "\r",
      "Episode 98\tAverage Score: 25.98"
     ]
    },
    {
     "name": "stderr",
     "output_type": "stream",
     "text": [
      "  0% ETA:  1 day, 5:57:01 |                                                  | \r"
     ]
    },
    {
     "name": "stdout",
     "output_type": "stream",
     "text": [
      "\r",
      "Episode 99\tAverage Score: 26.08"
     ]
    },
    {
     "name": "stderr",
     "output_type": "stream",
     "text": [
      "  1% ETA:  1 day, 5:54:12 |                                                  | \r"
     ]
    },
    {
     "name": "stdout",
     "output_type": "stream",
     "text": [
      "\r",
      "Episode 100\tAverage Score: 26.17\r",
      "Episode 100\tAverage Score: 26.17\n"
     ]
    },
    {
     "name": "stderr",
     "output_type": "stream",
     "text": [
      "  1% ETA:  1 day, 5:51:43 |                                                  | \r"
     ]
    },
    {
     "name": "stdout",
     "output_type": "stream",
     "text": [
      "\r",
      "Episode 101\tAverage Score: 26.54"
     ]
    },
    {
     "name": "stderr",
     "output_type": "stream",
     "text": [
      "  1% ETA:  1 day, 5:48:38 |                                                  | \r"
     ]
    },
    {
     "name": "stdout",
     "output_type": "stream",
     "text": [
      "\r",
      "Episode 102\tAverage Score: 26.88"
     ]
    },
    {
     "name": "stderr",
     "output_type": "stream",
     "text": [
      "  1% ETA:  1 day, 5:45:35 |                                                  | \r"
     ]
    },
    {
     "name": "stdout",
     "output_type": "stream",
     "text": [
      "\r",
      "Episode 103\tAverage Score: 27.23"
     ]
    },
    {
     "name": "stderr",
     "output_type": "stream",
     "text": [
      "  1% ETA:  1 day, 5:42:35 |                                                  | \r"
     ]
    },
    {
     "name": "stdout",
     "output_type": "stream",
     "text": [
      "\r",
      "Episode 104\tAverage Score: 27.58"
     ]
    },
    {
     "name": "stderr",
     "output_type": "stream",
     "text": [
      "  1% ETA:  1 day, 5:39:38 |                                                  | \r"
     ]
    },
    {
     "name": "stdout",
     "output_type": "stream",
     "text": [
      "\r",
      "Episode 105\tAverage Score: 27.93"
     ]
    },
    {
     "name": "stderr",
     "output_type": "stream",
     "text": [
      "  1% ETA:  1 day, 5:36:47 |                                                  | \r"
     ]
    },
    {
     "name": "stdout",
     "output_type": "stream",
     "text": [
      "\r",
      "Episode 106\tAverage Score: 28.27"
     ]
    },
    {
     "name": "stderr",
     "output_type": "stream",
     "text": [
      "  1% ETA:  1 day, 5:34:55 |                                                  | \r"
     ]
    },
    {
     "name": "stdout",
     "output_type": "stream",
     "text": [
      "\r",
      "Episode 107\tAverage Score: 28.62"
     ]
    },
    {
     "name": "stderr",
     "output_type": "stream",
     "text": [
      "  1% ETA:  1 day, 5:33:49 |                                                  | \r"
     ]
    },
    {
     "name": "stdout",
     "output_type": "stream",
     "text": [
      "\r",
      "Episode 108\tAverage Score: 28.96"
     ]
    },
    {
     "name": "stderr",
     "output_type": "stream",
     "text": [
      "  1% ETA:  1 day, 5:32:46 |                                                  | \r"
     ]
    },
    {
     "name": "stdout",
     "output_type": "stream",
     "text": [
      "\r",
      "Episode 109\tAverage Score: 29.31"
     ]
    },
    {
     "name": "stderr",
     "output_type": "stream",
     "text": [
      "  1% ETA:  1 day, 5:31:42 |                                                  | \r"
     ]
    },
    {
     "name": "stdout",
     "output_type": "stream",
     "text": [
      "\r",
      "Episode 110\tAverage Score: 29.67"
     ]
    },
    {
     "name": "stderr",
     "output_type": "stream",
     "text": [
      "100% Time: 0:19:51 ||||||||||||||||||||||||||||||||||||||||||||||||||||||||||| \r"
     ]
    },
    {
     "name": "stdout",
     "output_type": "stream",
     "text": [
      "\r",
      "Episode 111\tAverage Score: 30.02\n",
      "Environment solved in 11 episodes!\tAverage Score: 30.02\n",
      "1191.9998977184296\n"
     ]
    },
    {
     "name": "stderr",
     "output_type": "stream",
     "text": [
      "\n"
     ]
    }
   ],
   "source": [
    "import time\n",
    "begin = time.time()\n",
    "scores_ddpg = train_agent(ddpg)\n",
    "print(time.time()-begin)"
   ]
  },
  {
   "cell_type": "code",
   "execution_count": 7,
   "metadata": {},
   "outputs": [
    {
     "data": {
      "image/png": "[encoded data removed]",
      "text/plain": [
       "<Figure size 432x288 with 1 Axes>"
      ]
     },
     "metadata": {
      "needs_background": "light"
     },
     "output_type": "display_data"
    }
   ],
   "source": [
    "show_agent_performance(scores_ddpg)"
   ]
  },
  {
   "cell_type": "markdown",
   "metadata": {},
   "source": [
    "### 5. Saving the model"
   ]
  },
  {
   "cell_type": "code",
   "execution_count": 8,
   "metadata": {},
   "outputs": [],
   "source": [
    "# Save DDPG model\n",
    "checkpoint = {'state_size': state_size,\n",
    "              'action_size': action_size,\n",
    "              'hidden_layers':[64,128],\n",
    "              'seed':1234,\n",
    "              'n_agents':num_agents,\n",
    "              'scores':scores_ddpg,\n",
    "              'al_state_dict': ddpg.actor_local.state_dict(),\n",
    "              'at_state_dict': ddpg.actor_target.state_dict(),\n",
    "              'cl_state_dict': ddpg.critic_local.state_dict(),\n",
    "              'ct_state_dict': ddpg.critic_target.state_dict(),            \n",
    "             }\n",
    "\n",
    "torch.save(checkpoint, './saved_models/ddpg_model.pth')"
   ]
  },
  {
   "cell_type": "markdown",
   "metadata": {},
   "source": [
    "When finished, you can close the environment."
   ]
  },
  {
   "cell_type": "code",
   "execution_count": 11,
   "metadata": {},
   "outputs": [],
   "source": [
    "env.close()"
   ]
  }
 ],
 "metadata": {
  "kernelspec": {
   "display_name": "drlnd",
   "language": "python",
   "name": "drlnd"
  },
  "language_info": {
   "codemirror_mode": {
    "name": "ipython",
    "version": 3
   },
   "file_extension": ".py",
   "mimetype": "text/x-python",
   "name": "python",
   "nbconvert_exporter": "python",
   "pygments_lexer": "ipython3",
   "version": "3.6.12"
  }
 },
 "nbformat": 4,
 "nbformat_minor": 2
}
